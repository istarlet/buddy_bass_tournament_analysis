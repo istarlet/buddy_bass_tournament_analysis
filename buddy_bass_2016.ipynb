{
 "cells": [
  {
   "cell_type": "code",
   "execution_count": 3,
   "metadata": {},
   "outputs": [],
   "source": [
    "# Import libraries\n",
    "import matplotlib.pyplot as plt\n",
    "import pandas as pd\n",
    "\n",
    "\n",
    "# Column of dates to parse\n",
    "date_col = [\"Date\"]\n",
    "\n",
    "# Read the Excel file for the 2020 tournament and skip 2 rows so the dataframe starts with the column headers\n",
    "buddy_bass_2016 = pd.read_excel(\"data/Buddy Bass Tournament 2016.xlsx\", skiprows = 2)"
   ]
  },
  {
   "cell_type": "code",
   "execution_count": 6,
   "metadata": {},
   "outputs": [
    {
     "data": {
      "text/html": [
       "<div>\n",
       "<style scoped>\n",
       "    .dataframe tbody tr th:only-of-type {\n",
       "        vertical-align: middle;\n",
       "    }\n",
       "\n",
       "    .dataframe tbody tr th {\n",
       "        vertical-align: top;\n",
       "    }\n",
       "\n",
       "    .dataframe thead th {\n",
       "        text-align: right;\n",
       "    }\n",
       "</style>\n",
       "<table border=\"1\" class=\"dataframe\">\n",
       "  <thead>\n",
       "    <tr style=\"text-align: right;\">\n",
       "      <th></th>\n",
       "      <th>Date</th>\n",
       "      <th>Total No of Fish Caught</th>\n",
       "      <th>Total Weight in Pounds</th>\n",
       "      <th>Average Weight (LBS)</th>\n",
       "      <th>Big Fish         (LBS)</th>\n",
       "      <th>Big Fish/Year (LBS)</th>\n",
       "    </tr>\n",
       "  </thead>\n",
       "  <tbody>\n",
       "    <tr>\n",
       "      <th>0</th>\n",
       "      <td>2016-04-20</td>\n",
       "      <td>16.0</td>\n",
       "      <td>24.38</td>\n",
       "      <td>1.52375</td>\n",
       "      <td>4.8</td>\n",
       "      <td>Paparone/Howard/4.8</td>\n",
       "    </tr>\n",
       "    <tr>\n",
       "      <th>1</th>\n",
       "      <td>2016-04-27</td>\n",
       "      <td>9.0</td>\n",
       "      <td>11.18</td>\n",
       "      <td>1.242222</td>\n",
       "      <td>1.92</td>\n",
       "      <td>\"</td>\n",
       "    </tr>\n",
       "    <tr>\n",
       "      <th>2</th>\n",
       "      <td>2016-05-04</td>\n",
       "      <td>29.0</td>\n",
       "      <td>49.3</td>\n",
       "      <td>1.7</td>\n",
       "      <td>3.42</td>\n",
       "      <td>\"</td>\n",
       "    </tr>\n",
       "    <tr>\n",
       "      <th>3</th>\n",
       "      <td>2016-05-11</td>\n",
       "      <td>14.0</td>\n",
       "      <td>21.08</td>\n",
       "      <td>1.505714</td>\n",
       "      <td>3.24</td>\n",
       "      <td>\"</td>\n",
       "    </tr>\n",
       "    <tr>\n",
       "      <th>4</th>\n",
       "      <td>2016-05-18</td>\n",
       "      <td>20.0</td>\n",
       "      <td>26.48</td>\n",
       "      <td>1.324</td>\n",
       "      <td>2.74</td>\n",
       "      <td>\"</td>\n",
       "    </tr>\n",
       "  </tbody>\n",
       "</table>\n",
       "</div>"
      ],
      "text/plain": [
       "        Date Total No of Fish Caught Total Weight in Pounds  \\\n",
       "0 2016-04-20                    16.0                  24.38   \n",
       "1 2016-04-27                     9.0                  11.18   \n",
       "2 2016-05-04                    29.0                   49.3   \n",
       "3 2016-05-11                    14.0                  21.08   \n",
       "4 2016-05-18                    20.0                  26.48   \n",
       "\n",
       "  Average Weight (LBS) Big Fish         (LBS)  Big Fish/Year (LBS)  \n",
       "0              1.52375                    4.8  Paparone/Howard/4.8  \n",
       "1             1.242222                   1.92                    \"  \n",
       "2                  1.7                   3.42                    \"  \n",
       "3             1.505714                   3.24                    \"  \n",
       "4                1.324                   2.74                    \"  "
      ]
     },
     "execution_count": 6,
     "metadata": {},
     "output_type": "execute_result"
    }
   ],
   "source": [
    "buddy_bass_2016.head()"
   ]
  },
  {
   "cell_type": "code",
   "execution_count": 7,
   "metadata": {},
   "outputs": [
    {
     "data": {
      "text/html": [
       "<div>\n",
       "<style scoped>\n",
       "    .dataframe tbody tr th:only-of-type {\n",
       "        vertical-align: middle;\n",
       "    }\n",
       "\n",
       "    .dataframe tbody tr th {\n",
       "        vertical-align: top;\n",
       "    }\n",
       "\n",
       "    .dataframe thead th {\n",
       "        text-align: right;\n",
       "    }\n",
       "</style>\n",
       "<table border=\"1\" class=\"dataframe\">\n",
       "  <thead>\n",
       "    <tr style=\"text-align: right;\">\n",
       "      <th></th>\n",
       "      <th>Date</th>\n",
       "      <th>Total No of Fish Caught</th>\n",
       "      <th>Total Weight in Pounds</th>\n",
       "      <th>Average Weight (LBS)</th>\n",
       "      <th>Big Fish         (LBS)</th>\n",
       "    </tr>\n",
       "  </thead>\n",
       "  <tbody>\n",
       "    <tr>\n",
       "      <th>0</th>\n",
       "      <td>2016-04-20</td>\n",
       "      <td>16.0</td>\n",
       "      <td>24.38</td>\n",
       "      <td>1.52375</td>\n",
       "      <td>4.8</td>\n",
       "    </tr>\n",
       "    <tr>\n",
       "      <th>1</th>\n",
       "      <td>2016-04-27</td>\n",
       "      <td>9.0</td>\n",
       "      <td>11.18</td>\n",
       "      <td>1.242222</td>\n",
       "      <td>1.92</td>\n",
       "    </tr>\n",
       "    <tr>\n",
       "      <th>2</th>\n",
       "      <td>2016-05-04</td>\n",
       "      <td>29.0</td>\n",
       "      <td>49.3</td>\n",
       "      <td>1.7</td>\n",
       "      <td>3.42</td>\n",
       "    </tr>\n",
       "    <tr>\n",
       "      <th>3</th>\n",
       "      <td>2016-05-11</td>\n",
       "      <td>14.0</td>\n",
       "      <td>21.08</td>\n",
       "      <td>1.505714</td>\n",
       "      <td>3.24</td>\n",
       "    </tr>\n",
       "    <tr>\n",
       "      <th>4</th>\n",
       "      <td>2016-05-18</td>\n",
       "      <td>20.0</td>\n",
       "      <td>26.48</td>\n",
       "      <td>1.324</td>\n",
       "      <td>2.74</td>\n",
       "    </tr>\n",
       "  </tbody>\n",
       "</table>\n",
       "</div>"
      ],
      "text/plain": [
       "        Date Total No of Fish Caught Total Weight in Pounds  \\\n",
       "0 2016-04-20                    16.0                  24.38   \n",
       "1 2016-04-27                     9.0                  11.18   \n",
       "2 2016-05-04                    29.0                   49.3   \n",
       "3 2016-05-11                    14.0                  21.08   \n",
       "4 2016-05-18                    20.0                  26.48   \n",
       "\n",
       "  Average Weight (LBS) Big Fish         (LBS)  \n",
       "0              1.52375                    4.8  \n",
       "1             1.242222                   1.92  \n",
       "2                  1.7                   3.42  \n",
       "3             1.505714                   3.24  \n",
       "4                1.324                   2.74  "
      ]
     },
     "execution_count": 7,
     "metadata": {},
     "output_type": "execute_result"
    }
   ],
   "source": [
    "# Drop the \"Big Fish/Year (LBS)\" columns and set the dataframe to buddy_bass_2020 variable\n",
    "buddy_bass_2016 = buddy_bass_2016.drop(columns=['Big Fish/Year (LBS)'])\n",
    "\n",
    "# View the first five rows of data to confirm that the column is gone\n",
    "buddy_bass_2016.head()"
   ]
  },
  {
   "cell_type": "code",
   "execution_count": 8,
   "metadata": {},
   "outputs": [
    {
     "name": "stdout",
     "output_type": "stream",
     "text": [
      "<class 'pandas.core.frame.DataFrame'>\n",
      "RangeIndex: 20 entries, 0 to 19\n",
      "Data columns (total 5 columns):\n",
      " #   Column                   Non-Null Count  Dtype         \n",
      "---  ------                   --------------  -----         \n",
      " 0   Date                     20 non-null     datetime64[ns]\n",
      " 1   Total No of Fish Caught  20 non-null     object        \n",
      " 2   Total Weight in Pounds   20 non-null     object        \n",
      " 3   Average Weight (LBS)     20 non-null     object        \n",
      " 4   Big Fish         (LBS)   20 non-null     object        \n",
      "dtypes: datetime64[ns](1), object(4)\n",
      "memory usage: 928.0+ bytes\n"
     ]
    }
   ],
   "source": [
    "# Display information about the columns including data type and number of any missing values\n",
    "buddy_bass_2016.info()"
   ]
  }
 ],
 "metadata": {
  "kernelspec": {
   "display_name": "Python 3.9.7 ('base')",
   "language": "python",
   "name": "python3"
  },
  "language_info": {
   "codemirror_mode": {
    "name": "ipython",
    "version": 3
   },
   "file_extension": ".py",
   "mimetype": "text/x-python",
   "name": "python",
   "nbconvert_exporter": "python",
   "pygments_lexer": "ipython3",
   "version": "3.9.7"
  },
  "orig_nbformat": 4,
  "vscode": {
   "interpreter": {
    "hash": "336eef9849b77f6b0e6305e90cdc738d46520fb9fa12c5786748c59b9e847d10"
   }
  }
 },
 "nbformat": 4,
 "nbformat_minor": 2
}
